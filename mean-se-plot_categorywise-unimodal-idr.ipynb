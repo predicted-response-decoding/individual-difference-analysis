{
 "cells": [
  {
   "cell_type": "markdown",
   "metadata": {},
   "source": [
    "# Scatter plotting of IDR"
   ]
  },
  {
   "cell_type": "code",
   "execution_count": null,
   "metadata": {},
   "outputs": [],
   "source": [
    "import numpy as np\n",
    "from scipy.stats import sem\n",
    "from statsmodels.stats.multitest import fdrcorrection\n",
    "import pandas as pd\n",
    "import matplotlib.pyplot as plt\n",
    "\n",
    "import mystim\n",
    "import mytask\n",
    "from config import RCPARAMS_DEFAULT\n",
    "\n",
    "\n",
    "%matplotlib inline\n",
    "plt.rcParams.update(RCPARAMS_DEFAULT)"
   ]
  },
  {
   "cell_type": "code",
   "execution_count": null,
   "metadata": {},
   "outputs": [],
   "source": [
    "# Parameters\n",
    "nnmodels_multimodal = [\n",
    "    \"VGG16_SoundNet\",\n",
    "    \"ResNet50_SoundNet\",\n",
    "    \"ViT_B_16_SoundNet\",\n",
    "]\n",
    "nnmodel_unimodal_dict = {\n",
    "    \"VGG16_SoundNet\": [\"VGG16\", \"SoundNet\"],\n",
    "    \"ResNet50_SoundNet\": [\"ResNet50\", \"SoundNet\"],\n",
    "    \"ViT_B_16_SoundNet\": [\"ViT_B_16\", \"SoundNet\"],\n",
    "}\n",
    "colors_dict = {\n",
    "    \"VGG16_SoundNet\": {mystim.WebAdMovieSet: \"#f00\", mystim.TVAdMovieSet: \"#800\"},\n",
    "    \"ResNet50_SoundNet\": {mystim.WebAdMovieSet: \"#0f0\", mystim.TVAdMovieSet: \"#080\"},\n",
    "    \"ViT_B_16_SoundNet\": {mystim.WebAdMovieSet: \"#00f\", mystim.TVAdMovieSet: \"#008\"},\n",
    "}\n",
    "tasks = [\n",
    "    mytask.SceneDescriptions,\n",
    "    mytask.ImpressionRatings,\n",
    "    mytask.AdEffectivenessIndices,\n",
    "    mytask.AdPreferenceVotes,\n",
    "    mytask.PreferenceRatings,\n",
    "]"
   ]
  },
  {
   "cell_type": "code",
   "execution_count": null,
   "metadata": {},
   "outputs": [],
   "source": [
    "for t in tasks:\n",
    "    print(t.__name__)\n",
    "    x = 2\n",
    "    fig, ax = plt.subplots(figsize=(x, x))\n",
    "    ax.set_aspect(\"equal\")\n",
    "    ax.plot([-2, 2], [-2, 2], c=\"k\", alpha=0.6, zorder=-100)\n",
    "    minmax = []\n",
    "    for m in t.msets:\n",
    "        for nnmodel_multimodal in nnmodels_multimodal:\n",
    "            for m in t.msets:\n",
    "                fname_idr = f\"./result/{nnmodel_multimodal}/{m.__name__}/{t.__name__}/idr.csv\"\n",
    "                df_idr = pd.read_csv(fname_idr)\n",
    "                idrvals_multimodal = df_idr.idr\n",
    "\n",
    "                idrvals_unimodal = []\n",
    "                for nnmodel_unimodal in nnmodel_unimodal_dict[nnmodel_multimodal]:\n",
    "                    fname_idr = f\"./result/{nnmodel_unimodal}/{m.__name__}/{t.__name__}/idr.csv\"\n",
    "                    df_idr = pd.read_csv(fname_idr)\n",
    "                    idrvals_unimodal.append(df_idr.idr)\n",
    "\n",
    "                idrvals_unimodal = np.max(idrvals_unimodal, axis=0)\n",
    "                mean_x = np.mean(idrvals_unimodal)\n",
    "                mean_y = np.mean(idrvals_multimodal)\n",
    "                if len(t.item_names) == 1:\n",
    "                    ax.scatter(mean_x, mean_y, color=colors_dict[nnmodel_multimodal][m])\n",
    "                    minmax.extend([mean_x, mean_y])\n",
    "                else:\n",
    "                    sem_x = sem(idrvals_unimodal)\n",
    "                    sem_y = sem(idrvals_multimodal)\n",
    "                    ax.errorbar(mean_x, mean_y, xerr=sem_x, yerr=sem_y, fmt=\"o\", color=colors_dict[nnmodel_multimodal][m])\n",
    "                    minmax.extend([mean_x + sem_x, mean_x - sem_x, mean_y + sem_y, mean_y - sem_y])\n",
    "\n",
    "    minval = min(minmax)\n",
    "    maxval = max(minmax)\n",
    "    span = maxval - minval\n",
    "    upper_lim = maxval + span * 0.05\n",
    "    lower_lim = minval - span * 0.05\n",
    "    ax.set_xlim([lower_lim, upper_lim])\n",
    "    ax.set_ylim([lower_lim, upper_lim])\n",
    "    plt.show()"
   ]
  },
  {
   "cell_type": "code",
   "execution_count": null,
   "metadata": {},
   "outputs": [],
   "source": []
  }
 ],
 "metadata": {
  "kernelspec": {
   "display_name": "_",
   "language": "python",
   "name": "python3"
  },
  "language_info": {
   "codemirror_mode": {
    "name": "ipython",
    "version": 3
   },
   "file_extension": ".py",
   "mimetype": "text/x-python",
   "name": "python",
   "nbconvert_exporter": "python",
   "pygments_lexer": "ipython3",
   "version": "3.11.10"
  }
 },
 "nbformat": 4,
 "nbformat_minor": 2
}
